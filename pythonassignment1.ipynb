{
  "nbformat": 4,
  "nbformat_minor": 0,
  "metadata": {
    "colab": {
      "provenance": [],
      "authorship_tag": "ABX9TyOakvY1jdvR0BgisEHGagsF",
      "include_colab_link": true
    },
    "kernelspec": {
      "name": "python3",
      "display_name": "Python 3"
    },
    "language_info": {
      "name": "python"
    }
  },
  "cells": [
    {
      "cell_type": "markdown",
      "metadata": {
        "id": "view-in-github",
        "colab_type": "text"
      },
      "source": [
        "<a href=\"https://colab.research.google.com/github/AMULYA270492/assignment1/blob/master/pythonassignment1.ipynb\" target=\"_parent\"><img src=\"https://colab.research.google.com/assets/colab-badge.svg\" alt=\"Open In Colab\"/></a>"
      ]
    },
    {
      "cell_type": "code",
      "execution_count": null,
      "metadata": {
        "colab": {
          "base_uri": "https://localhost:8080/"
        },
        "id": "ASDUXcONMgRM",
        "outputId": "d351d4c6-fbc0-4d35-fa59-5344a66d4e27"
      },
      "outputs": [
        {
          "output_type": "stream",
          "name": "stdout",
          "text": [
            "[2002, 2009, 2016, 2023, 2037, 2044, 2051, 2058, 2072, 2079, 2086, 2093, 2107, 2114, 2121, 2128, 2142, 2149, 2156, 2163, 2177, 2184, 2191, 2198, 2212, 2219, 2226, 2233, 2247, 2254, 2261, 2268, 2282, 2289, 2296, 2303, 2317, 2324, 2331, 2338, 2352, 2359, 2366, 2373, 2387, 2394, 2401, 2408, 2422, 2429, 2436, 2443, 2457, 2464, 2471, 2478, 2492, 2499, 2506, 2513, 2527, 2534, 2541, 2548, 2562, 2569, 2576, 2583, 2597, 2604, 2611, 2618, 2632, 2639, 2646, 2653, 2667, 2674, 2681, 2688, 2702, 2709, 2716, 2723, 2737, 2744, 2751, 2758, 2772, 2779, 2786, 2793, 2807, 2814, 2821, 2828, 2842, 2849, 2856, 2863, 2877, 2884, 2891, 2898, 2912, 2919, 2926, 2933, 2947, 2954, 2961, 2968, 2982, 2989, 2996, 3003, 3017, 3024, 3031, 3038, 3052, 3059, 3066, 3073, 3087, 3094, 3101, 3108, 3122, 3129, 3136, 3143, 3157, 3164, 3171, 3178, 3192, 3199]\n"
          ]
        }
      ],
      "source": [
        "x=[]\n",
        "a=2000\n",
        "while a<=3200:\n",
        "    if a%7==0 and a%5!=0:\n",
        "        x.append(a)\n",
        "    a=a+1\n",
        "\n",
        "\n",
        "print(x)\n"
      ]
    },
    {
      "cell_type": "code",
      "source": [
        "a1=input(\"enter your first name\")\n",
        "a2=input(\"enter your last name\")\n",
        "a=a1[::-1]+\" \"+a2[::-1]\n",
        "print(\"printing name in reverse order\",a)\n"
      ],
      "metadata": {
        "colab": {
          "base_uri": "https://localhost:8080/"
        },
        "id": "MDB_X0aDMv0n",
        "outputId": "13795762-7614-45df-b0f4-dd6c9238d808"
      },
      "execution_count": null,
      "outputs": [
        {
          "output_type": "stream",
          "name": "stdout",
          "text": [
            "enter your first nameamulya\n",
            "enter your last nametetali\n",
            "printing name in reverse order ayluma ilatet\n"
          ]
        }
      ]
    },
    {
      "cell_type": "code",
      "source": [
        "d=12\n",
        "volume=(4/3)*(22/7)*pow(d/2,3)\n",
        "print(volume)"
      ],
      "metadata": {
        "colab": {
          "base_uri": "https://localhost:8080/"
        },
        "id": "hKuxQgx8N3lb",
        "outputId": "a80287a4-389d-49c6-c069-4fe5cf85cb68"
      },
      "execution_count": null,
      "outputs": [
        {
          "output_type": "stream",
          "name": "stdout",
          "text": [
            "905.142857142857\n"
          ]
        }
      ]
    },
    {
      "cell_type": "code",
      "source": [
        "a1=input(\"enter your first name\")\n",
        "a2=input(\"enter your last name\")\n",
        "a=a2+\" \"+a1\n",
        "print(\"your name in reverse order is \"+\" \"+a)\n",
        "\n"
      ],
      "metadata": {
        "id": "ZMjfaDBBzFYK",
        "outputId": "0c7ade02-c153-412a-b32c-30bf2f350ac6",
        "colab": {
          "base_uri": "https://localhost:8080/"
        }
      },
      "execution_count": 1,
      "outputs": [
        {
          "output_type": "stream",
          "name": "stdout",
          "text": [
            "enter your first nameamulya\n",
            "enter your last nametetali\n",
            "your name in reverse order is  tetali amulya\n"
          ]
        }
      ]
    }
  ]
}