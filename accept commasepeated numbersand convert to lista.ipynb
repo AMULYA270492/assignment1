{
 "cells": [
  {
   "cell_type": "code",
   "execution_count": 23,
   "metadata": {},
   "outputs": [
    {
     "name": "stdout",
     "output_type": "stream",
     "text": [
      "enter the numbers seperated by comma1,3\n",
      "['1', '3']\n"
     ]
    },
    {
     "data": {
      "text/plain": [
       "str"
      ]
     },
     "execution_count": 23,
     "metadata": {},
     "output_type": "execute_result"
    }
   ],
   "source": [
    "str=input(\"enter the numbers seperated by comma\")\n",
    "l=[]\n",
    "l=str.split(',')\n",
    "print(l)\n",
    "type(l)\n",
    "type(str)"
   ]
  },
  {
   "cell_type": "code",
   "execution_count": 28,
   "metadata": {},
   "outputs": [
    {
     "name": "stdout",
     "output_type": "stream",
     "text": [
      "enter the numbers seperated by comma1,4444,5555\n",
      "1\n",
      "4444\n",
      "\n",
      "\n",
      "\n",
      "\n",
      "['1', '4444', '', '', '', '']\n"
     ]
    }
   ],
   "source": [
    "str1=input(\"enter the numbers seperated by comma\")\n",
    "l=[]\n",
    "\n",
    "x=''\n",
    "for i in str1:\n",
    "    \n",
    "    if i==',' or i==str1[len(str1)-1]:\n",
    "        l.append(x)\n",
    "        print(x)\n",
    "        x=''\n",
    "        \n",
    "        \n",
    "    else:\n",
    "        x=x+i\n",
    "      \n",
    "print(l)\n",
    "\n"
   ]
  },
  {
   "cell_type": "code",
   "execution_count": 52,
   "metadata": {},
   "outputs": [
    {
     "name": "stdout",
     "output_type": "stream",
     "text": [
      "enter the numbers seperated by comma and you may end with or without comma aswell1,22,555,6\n",
      "['1', '22', '555', '6']\n"
     ]
    }
   ],
   "source": [
    "str1=input(\"enter the numbers seperated by comma and you may end with or without comma aswell\")\n",
    "l=[]\n",
    "\n",
    "x=''\n",
    "for i in str1:\n",
    "    \n",
    "    if i==',':\n",
    "        l.append(x)\n",
    "        x=''\n",
    "        \n",
    "    else:\n",
    "        x=x+i\n",
    "if str1[len(str1)-1]!=',':\n",
    "    l.append(x)\n",
    "\n",
    "    print(l)\n",
    "    \n"
   ]
  },
  {
   "cell_type": "code",
   "execution_count": null,
   "metadata": {},
   "outputs": [],
   "source": []
  },
  {
   "cell_type": "code",
   "execution_count": null,
   "metadata": {},
   "outputs": [],
   "source": [
    "\n"
   ]
  },
  {
   "cell_type": "code",
   "execution_count": null,
   "metadata": {},
   "outputs": [],
   "source": []
  }
 ],
 "metadata": {
  "kernelspec": {
   "display_name": "Python 3",
   "language": "python",
   "name": "python3"
  },
  "language_info": {
   "codemirror_mode": {
    "name": "ipython",
    "version": 3
   },
   "file_extension": ".py",
   "mimetype": "text/x-python",
   "name": "python",
   "nbconvert_exporter": "python",
   "pygments_lexer": "ipython3",
   "version": "3.7.6"
  }
 },
 "nbformat": 4,
 "nbformat_minor": 4
}
